{
 "cells": [
  {
   "cell_type": "markdown",
   "metadata": {},
   "source": [
    "# DESCARGA INFORMACION DE COTIZACION DE DOLAR BLUE DE ARGENTINA"
   ]
  },
  {
   "cell_type": "code",
   "execution_count": 115,
   "metadata": {},
   "outputs": [],
   "source": [
    "#librerias que se necesitan. Se pueden instalar desde aqui tipeando !pip install desde cualquier celda en blanco\n",
    "import requests\n",
    "from bs4 import BeautifulSoup\n",
    "import datetime\n",
    "import pandas as pd\n"
   ]
  },
  {
   "cell_type": "code",
   "execution_count": 116,
   "metadata": {},
   "outputs": [],
   "source": [
    "#Url a la cual vamos a pedirle la info del dolar blue\n",
    "url  = 'https://www.cotizacion-dolar.com.ar/dolar-blue-historico-2020.php'\n"
   ]
  },
  {
   "cell_type": "code",
   "execution_count": 117,
   "metadata": {},
   "outputs": [],
   "source": [
    "\n",
    "#funcion para descargar los datos de la fecha de referencia. El formato de fecha debe ser datetime\n",
    "def blue(fecha):\n",
    "    myobjet = {'fecha': fecha.strftime('%d-%m-%y')}\n",
    "    resp = requests.post(url, data=myobjet)\n",
    "    soup = BeautifulSoup(resp.text)\n",
    "    datos = soup.find_all('tr')[1].find_all('td')\n",
    "    fecha =datos[0].text\n",
    "    compra = datos[1].text\n",
    "    venta = datos[2].text\n",
    "    if '$' in compra:\n",
    "        pass\n",
    "    else:\n",
    "        print(fecha,compra,venta)\n",
    "        return(fecha,compra,venta)"
   ]
  },
  {
   "cell_type": "code",
   "execution_count": 118,
   "metadata": {},
   "outputs": [
    {
     "name": "stdout",
     "output_type": "stream",
     "text": [
      "23-03-18 20.50 20.90\n",
      "02-01-18 18.85 19.25\n",
      "03-01-18 18.89 19.29\n",
      "04-01-18 18.94 19.34\n",
      "05-01-18 19.05 19.45\n",
      "08-01-18 19.18 19.58\n",
      "09-01-18 19.14 19.54\n",
      "10-01-18 18.92 19.32\n",
      "11-01-18 18.98 19.38\n",
      "12-01-18 19.14 19.54\n",
      "15-01-18 19.21 19.61\n",
      "16-01-18 19.20 19.60\n",
      "17-01-18 19.22 19.62\n",
      "18-01-18 19.24 19.64\n",
      "19-01-18 19.29 19.69\n",
      "22-01-18 19.40 19.80\n",
      "23-01-18 19.48 19.88\n",
      "24-01-18 19.63 20.03\n",
      "25-01-18 19.56 19.96\n",
      "26-01-18 19.58 19.98\n",
      "29-01-18 19.63 20.03\n",
      "30-01-18 19.64 20.04\n",
      "31-01-18 19.55 19.95\n",
      "01-02-18 19.53 19.93\n",
      "02-02-18 19.52 19.92\n",
      "05-02-18 19.52 19.92\n",
      "06-02-18 19.49 19.89\n",
      "07-02-18 19.45 19.85\n",
      "08-02-18 19.53 19.93\n",
      "09-02-18 19.83 20.23\n",
      "14-02-18 19.80 20.20\n",
      "15-02-18 19.70 20.10\n",
      "16-02-18 19.75 20.15\n",
      "19-02-18 19.83 20.23\n",
      "20-02-18 19.76 20.26\n",
      "21-02-18 19.80 20.20\n",
      "22-02-18 19.91 20.31\n",
      "23-02-18 19.95 20.35\n",
      "26-02-18 20.00 20.40\n",
      "27-02-18 20.00 20.40\n",
      "28-02-18 19.95 20.35\n",
      "01-03-18 20.00 20.40\n",
      "02-03-18 20.10 20.50\n",
      "05-03-18 20.15 20.55\n",
      "06-03-18 20.25 20.65\n",
      "07-03-18 20.28 20.68\n",
      "08-03-18 20.28 20.68\n",
      "09-03-18 20.23 20.63\n",
      "12-03-18 20.20 20.60\n",
      "13-03-18 20.27 20.67\n",
      "14-03-18 20.35 20.75\n",
      "15-03-18 20.42 20.82\n",
      "16-03-18 20.45 20.85\n",
      "19-03-18 20.52 20.92\n",
      "20-03-18 20.57 20.97\n",
      "21-03-18 20.58 20.98\n",
      "23-03-18 20.50 20.90\n"
     ]
    }
   ],
   "source": [
    "#rango de fechas para las cuales se desean los datos. Excluye fines de semana\n",
    "dates = pd.bdate_range(start='1/1/2018', end='3/25/2018')\n",
    "\n",
    "#creamos un Dataframe para guardar los resultados de los requests\n",
    "df = pd.DataFrame(index=dates,columns=['data'])\n",
    "\n",
    "#aplicamos la funcion en el dataframe\n",
    "df['data'] = df.index.map(blue)"
   ]
  },
  {
   "cell_type": "code",
   "execution_count": 119,
   "metadata": {},
   "outputs": [],
   "source": [
    "df.dropna(axis=0,how='all',inplace=True)"
   ]
  },
  {
   "cell_type": "code",
   "execution_count": 120,
   "metadata": {},
   "outputs": [],
   "source": [
    "#separamos los datos en diferentes columnas\n",
    "df['Compra']=df.data.apply(lambda x :x[1])\n",
    "df['Venta']=df.data.apply(lambda x :x[2])"
   ]
  },
  {
   "cell_type": "code",
   "execution_count": 121,
   "metadata": {},
   "outputs": [],
   "source": [
    "#eliminamos las columas innecesarias\n",
    "df.drop(columns=['data'],inplace=True)"
   ]
  },
  {
   "cell_type": "code",
   "execution_count": 122,
   "metadata": {},
   "outputs": [
    {
     "data": {
      "text/html": [
       "<div>\n",
       "<style scoped>\n",
       "    .dataframe tbody tr th:only-of-type {\n",
       "        vertical-align: middle;\n",
       "    }\n",
       "\n",
       "    .dataframe tbody tr th {\n",
       "        vertical-align: top;\n",
       "    }\n",
       "\n",
       "    .dataframe thead th {\n",
       "        text-align: right;\n",
       "    }\n",
       "</style>\n",
       "<table border=\"1\" class=\"dataframe\">\n",
       "  <thead>\n",
       "    <tr style=\"text-align: right;\">\n",
       "      <th></th>\n",
       "      <th>Compra</th>\n",
       "      <th>Venta</th>\n",
       "    </tr>\n",
       "  </thead>\n",
       "  <tbody>\n",
       "    <tr>\n",
       "      <th>2018-01-02</th>\n",
       "      <td>18.85</td>\n",
       "      <td>19.25</td>\n",
       "    </tr>\n",
       "    <tr>\n",
       "      <th>2018-01-03</th>\n",
       "      <td>18.89</td>\n",
       "      <td>19.29</td>\n",
       "    </tr>\n",
       "    <tr>\n",
       "      <th>2018-01-04</th>\n",
       "      <td>18.94</td>\n",
       "      <td>19.34</td>\n",
       "    </tr>\n",
       "    <tr>\n",
       "      <th>2018-01-05</th>\n",
       "      <td>19.05</td>\n",
       "      <td>19.45</td>\n",
       "    </tr>\n",
       "    <tr>\n",
       "      <th>2018-01-08</th>\n",
       "      <td>19.18</td>\n",
       "      <td>19.58</td>\n",
       "    </tr>\n",
       "  </tbody>\n",
       "</table>\n",
       "</div>"
      ],
      "text/plain": [
       "           Compra  Venta\n",
       "2018-01-02  18.85  19.25\n",
       "2018-01-03  18.89  19.29\n",
       "2018-01-04  18.94  19.34\n",
       "2018-01-05  19.05  19.45\n",
       "2018-01-08  19.18  19.58"
      ]
     },
     "execution_count": 122,
     "metadata": {},
     "output_type": "execute_result"
    }
   ],
   "source": [
    "#vemos los resultados\n",
    "df.head()"
   ]
  },
  {
   "cell_type": "code",
   "execution_count": null,
   "metadata": {},
   "outputs": [],
   "source": []
  }
 ],
 "metadata": {
  "kernelspec": {
   "display_name": "Python 3",
   "language": "python",
   "name": "python3"
  },
  "language_info": {
   "codemirror_mode": {
    "name": "ipython",
    "version": 3
   },
   "file_extension": ".py",
   "mimetype": "text/x-python",
   "name": "python",
   "nbconvert_exporter": "python",
   "pygments_lexer": "ipython3",
   "version": "3.7.5"
  }
 },
 "nbformat": 4,
 "nbformat_minor": 2
}
